{
 "cells": [
  {
   "cell_type": "markdown",
   "metadata": {},
   "source": [
    "# **Tutorial : From Searching Models to Simulation and Asking Questions**\n",
    "\n",
    "This tutorial will walk you through the process of getting started with the useage of different tools to operate with Systems biology models. It includes installation instructions, a quick start guide, and an overview of how to integrate and use the tool in your projects."
   ]
  },
  {
   "cell_type": "markdown",
   "metadata": {},
   "source": [
    "## **Getting Started: Quick Start**\n",
    "\n",
    "Install aiagents4pharma\n",
    "To begin, you need to install the aiagents4pharma package, which includes the search_models tool for querying biological models.\n",
    "\n",
    "Use the following command to install the package via pip:"
   ]
  },
  {
   "cell_type": "code",
   "execution_count": 165,
   "metadata": {},
   "outputs": [],
   "source": [
    "# !pip install aiagents4pharma \n",
    "#This will install the aiagents4pharma library and all its dependencies."
   ]
  },
  {
   "cell_type": "markdown",
   "metadata": {},
   "source": [
    "**Set Up Your API Key**"
   ]
  },
  {
   "cell_type": "markdown",
   "metadata": {},
   "source": [
    "Before using the model tools, you need to authenticate using an API key. You can either store the API key in an environment variable or set it directly in your notebook/script."
   ]
  },
  {
   "cell_type": "markdown",
   "metadata": {},
   "source": [
    "### Option 1 : Retrieve API Key from Environment Variable"
   ]
  },
  {
   "cell_type": "code",
   "execution_count": 2,
   "metadata": {},
   "outputs": [],
   "source": [
    "import os\n",
    "import openai \n",
    "\n",
    "# Retrieve API key from environment variable\n",
    "openai.api_key = os.getenv(\"OPENAI_API_KEY\")"
   ]
  },
  {
   "cell_type": "markdown",
   "metadata": {},
   "source": [
    "### Option 2: Store API Key Directly in the Script (Temporary)"
   ]
  },
  {
   "cell_type": "code",
   "execution_count": null,
   "metadata": {},
   "outputs": [],
   "source": [
    "import os\n",
    "\n",
    "os.environ[\"OPENAI_API_KEY\"] = \"Your_API_KEY\"\n",
    "# Make sure to replace \"your_api_key\" with your actual API key."
   ]
  },
  {
   "cell_type": "markdown",
   "metadata": {},
   "source": [
    "***Once you have the package installed and the API key set up, you can start using the model tools to query biological models. Here's how you can get started quickly:***\n",
    "## **Quick Start with search_models Tool**\n",
    "### 1. Import Required Packages\n",
    "This imports the SearchModelsTool class from the aiagents4pharma package."
   ]
  },
  {
   "cell_type": "code",
   "execution_count": null,
   "metadata": {},
   "outputs": [],
   "source": [
    "# Import the `SearchModelsTool` class from search_models.py\n",
    "from aiagents4pharma.talk2biomodels.tools.search_models import SearchModelsTool"
   ]
  },
  {
   "cell_type": "markdown",
   "metadata": {},
   "source": [
    "### 2. Initialize the Search Models Tool\n",
    "\n",
    "This creates an instance of the SearchModelsTool which you will use to search for biological models."
   ]
  },
  {
   "cell_type": "code",
   "execution_count": null,
   "metadata": {},
   "outputs": [],
   "source": [
    "# Initialize the SearchModelsTool\n",
    "search_tool = SearchModelsTool()"
   ]
  },
  {
   "cell_type": "markdown",
   "metadata": {},
   "source": [
    "### 3. Run the Search Models Tool\n",
    "\n",
    "In this example, we are searching for models related to Crohn's disease. You can replace the query with any disease or biological term you're interested in."
   ]
  },
  {
   "cell_type": "code",
   "execution_count": 272,
   "metadata": {},
   "outputs": [],
   "source": [
    "# Define the search query as follows\n",
    "query = \"crohn's disease\"\n",
    "\n",
    "# Run the tool with the query\n",
    "search_results = search_tool.invoke(input={\"query\": query})"
   ]
  },
  {
   "cell_type": "markdown",
   "metadata": {},
   "source": [
    "### 4. Display the Results\n",
    "\n",
    "To view the results, simply print them\n",
    "\n",
    "The search results will be displayed in a table format containing the Model ID, Model Name, Format, and Submission Date."
   ]
  },
  {
   "cell_type": "code",
   "execution_count": 273,
   "metadata": {},
   "outputs": [
    {
     "name": "stdout",
     "output_type": "stream",
     "text": [
      "| #  | BioModel ID                                                                 | BioModel Name                                                                                                                    | Format | Submission Date |\n",
      "|----|-----------------------------------------------------------------------------|-------------------------------------------------------------------------------------------------------------------------------|--------|------------------|\n",
      "| 1  | [BIOMD0000000534](https://www.ebi.ac.uk/biomodels/BIOMD0000000534)        | Dwivedi2014 - Healthy Volunteer IL6 Model                                                                                     | SBML   | 2014-08-04       |\n",
      "| 2  | [BIOMD0000000535](https://www.ebi.ac.uk/biomodels/BIOMD0000000535)        | Dwivedi2014 - Crohns IL6 Disease model - Anti-IL6 Antibody                                                                   | SBML   | 2014-08-04       |\n",
      "| 3  | [BIOMD0000000536](https://www.ebi.ac.uk/biomodels/BIOMD0000000536)        | Dwivedi2014 - Crohns IL6 Disease model - sgp130 activity                                                                     | SBML   | 2014-08-04       |\n",
      "| 4  | [BIOMD0000000537](https://www.ebi.ac.uk/biomodels/BIOMD0000000537)        | Dwivedi2014 - Crohns IL6 Disease model - Anti-IL6R Antibody                                                                  | SBML   | 2014-08-04       |\n",
      "| 5  | [MODEL1109130000](https://www.ebi.ac.uk/biomodels/MODEL1109130000)        | Thiele2013 - Human metabolism global reconstruction (Recon 2)                                                                  | SBML   | 2011-09-12       |\n",
      "| 6  | [MODEL1311110000](https://www.ebi.ac.uk/biomodels/MODEL1311110000)        | Smallbone2013 - Human metabolism global reconstruction (recon 2.1)                                                            | SBML   | 2013-11-11       |\n",
      "| 7  | [MODEL1311110001](https://www.ebi.ac.uk/biomodels/MODEL1311110001)        | Smallbone2013 - Human metabolism global reconstruction (recon 2.1x)                                                           | SBML   | 2013-11-11       |\n",
      "| 8  | [MODEL1703310000](https://www.ebi.ac.uk/biomodels/MODEL1703310000)        | MODEL1703310000_url.xml                                                                                                       | SBML   | 2017-03-30       |\n",
      "| 9  | [MODEL2001290001](https://www.ebi.ac.uk/biomodels/MODEL2001290001)        | AhmedMobeen2021 - NF-kB Activation Model                                                                                      | SBML   | 2020-01-29       |\n",
      "| 10 | [MODEL2101150001](https://www.ebi.ac.uk/biomodels/MODEL2101150001)        | Corral2021 - Interplay between SMAD2 and STAT5A regulating IL-17A/F expression in Th cells.                                 | SBML   | 2021-01-15       |\n"
     ]
    }
   ],
   "source": [
    "print(search_results)"
   ]
  },
  {
   "cell_type": "markdown",
   "metadata": {},
   "source": [
    "## **Quick Start with Model_Description Tool**"
   ]
  },
  {
   "cell_type": "markdown",
   "metadata": {},
   "source": [
    "### 1. Import Required Modules\n",
    "The purpose of this step is to import the necessary classes to work with biological models. The ModelDescriptionTool is used to query and retrieve information about a biological model, and ModelData is a helper class to provide the model's details like its ID or file path. These imports are essential for interacting with the tool."
   ]
  },
  {
   "cell_type": "code",
   "execution_count": 245,
   "metadata": {},
   "outputs": [],
   "source": [
    "from aiagents4pharma.talk2biomodels.tools.model_description import ModelDescriptionTool,ModelData"
   ]
  },
  {
   "cell_type": "markdown",
   "metadata": {},
   "source": [
    "### 2. Initialize the Tool\n",
    "This step initializes the ModelDescriptionTool, which will allow you to interact with the BioModels database. It sets up the tool to process your questions and fetch the relevant answers from the specified model."
   ]
  },
  {
   "cell_type": "code",
   "execution_count": 246,
   "metadata": {},
   "outputs": [],
   "source": [
    "tool = ModelDescriptionTool()"
   ]
  },
  {
   "cell_type": "markdown",
   "metadata": {},
   "source": [
    "### 3. Define the Model Data\n",
    "The purpose of defining the model data is to specify the biological model you want to work with. By providing the modelid, you indicate which model from the BioModels database the tool should analyze. Alternatively, you can use the sbml_file_path to load a local SBML file, but here we focus on using a BioModels ID."
   ]
  },
  {
   "cell_type": "code",
   "execution_count": 247,
   "metadata": {},
   "outputs": [],
   "source": [
    "model_data = ModelData(\n",
    "    modelid=537,  # Use a valid BioModels ID\n",
    "    sbml_file_path=None\n",
    ")"
   ]
  },
  {
   "cell_type": "markdown",
   "metadata": {},
   "source": [
    "### 4. Prepare Input, Invoke the Tool, and Display the Result\n",
    "\n",
    "In this step, you define a question about the biological model and link it to the specified model data. The input is processed by the tool's invoke method, which retrieves the relevant information, and the response is displayed, providing a clear answer to your query"
   ]
  },
  {
   "cell_type": "code",
   "execution_count": 248,
   "metadata": {},
   "outputs": [
    {
     "name": "stdout",
     "output_type": "stream",
     "text": [
      "None st_session_key\n",
      "Response: This model simulates interleukin-6 (IL-6)-mediated immune regulation in Crohn's disease. Specifically, it focuses on the differential activity of various ligands on the signaling of IL-6, which in turn affects the activity of Signal Transducer and Activator of Transcription 3 (STAT3) on the production of the biomarker C-Reactive Protein (CRP) expression. The model integrates intracellular signaling with organ-level dynamics of pharmacological markers to study the impact of different biotherapeutic strategies targeting IL-6-mediated signaling in Crohn's disease.\n"
     ]
    }
   ],
   "source": [
    "input_data = {\n",
    "    \"question\": \"What biological processes does this model simulate?\",\n",
    "    \"sys_bio_model\": model_data\n",
    "}\n",
    "response = tool.invoke(input=input_data)\n",
    "print(\"Response:\", response)\n"
   ]
  },
  {
   "cell_type": "markdown",
   "metadata": {},
   "source": [
    "As you can see, the query's answer is displayed in a clear and well-structured format."
   ]
  },
  {
   "cell_type": "markdown",
   "metadata": {},
   "source": [
    "## **Quick Start with simulate_model Tool**\n",
    "Simulation allows us to run virtual experiments on biological systems. Instead of conducting physical experiments in the lab, we can use computational models to predict how a system behaves under specific conditions.\n",
    "\n",
    "**Let's simulate a virtual patient with a CRP value of 100 and observe the results over time**"
   ]
  },
  {
   "cell_type": "markdown",
   "metadata": {},
   "source": [
    "### 1. Import Required Packages"
   ]
  },
  {
   "cell_type": "code",
   "execution_count": 279,
   "metadata": {},
   "outputs": [],
   "source": [
    "from aiagents4pharma.talk2biomodels.tools.simulate_model import SimulateModelTool,TimeData,SpeciesData,TimeSpeciesNameConcentration\n",
    "import streamlit as st"
   ]
  },
  {
   "cell_type": "markdown",
   "metadata": {},
   "source": [
    "SimulateModelTool: The main tool for running model simulations.\n",
    "\n",
    "TimeData, SpeciesData, TimeSpeciesNameConcentration: Helper classes to define time, species, and recurring data.\n",
    "\n",
    "streamlit: A Python library for building web applications, used here to manage session data and visualize results."
   ]
  },
  {
   "cell_type": "markdown",
   "metadata": {},
   "source": [
    "### 2. Initialize the Tool\n",
    "Create an instance of the SimulateModelTool."
   ]
  },
  {
   "cell_type": "code",
   "execution_count": 280,
   "metadata": {},
   "outputs": [
    {
     "name": "stderr",
     "output_type": "stream",
     "text": [
      "2024-12-10 00:32:53.720 WARNING streamlit.runtime.scriptrunner_utils.script_run_context: Thread 'MainThread': missing ScriptRunContext! This warning can be ignored when running in bare mode.\n",
      "2024-12-10 00:32:53.721 WARNING streamlit.runtime.scriptrunner_utils.script_run_context: Thread 'MainThread': missing ScriptRunContext! This warning can be ignored when running in bare mode.\n"
     ]
    }
   ],
   "source": [
    "\n",
    "st.session_state[\"test_key\"] = None"
   ]
  },
  {
   "cell_type": "markdown",
   "metadata": {},
   "source": [
    "st.session_state: Stores data during the session. Here, we initialize it with a key (test_key) to save simulation results."
   ]
  },
  {
   "cell_type": "code",
   "execution_count": 281,
   "metadata": {},
   "outputs": [],
   "source": [
    "simulate_tool = SimulateModelTool(return_direct=True,st_session_key=\"test_key\")"
   ]
  },
  {
   "cell_type": "markdown",
   "metadata": {},
   "source": [
    "simulate_tool: Initializes the simulation tool and links it to the Streamlit session using st_session_key."
   ]
  },
  {
   "cell_type": "markdown",
   "metadata": {},
   "source": [
    "### 3. Define the Input Data\n",
    "Define the input data for the simulation in a structured format. You'll provide the model data, time data, species data, and recurring events (if any)."
   ]
  },
  {
   "cell_type": "code",
   "execution_count": 282,
   "metadata": {},
   "outputs": [],
   "source": [
    "# Define time data\n",
    "model_data=ModelData(\n",
    "        modelid= 537,  # Use a valid BioModels ID\n",
    "        sbml_file_path=None\n",
    ")\n",
    "time_data = TimeData(\n",
    "    duration=100.0,  # Duration of the simulation\n",
    "    interval=10      # Interval between time steps\n",
    ")\n",
    "\n",
    "# Define species data\n",
    "species_data = SpeciesData(\n",
    "    species_name=[\"CRP{serum}\"],\n",
    "    species_concentration=[100.0]\n",
    ")\n",
    "\n",
    "# Define recurring data\n",
    "new_data = [\n",
    "    TimeSpeciesNameConcentration(time=50, species_name=\"CRP{serum}\", species_concentration=2.0),\n",
    "]"
   ]
  },
  {
   "cell_type": "markdown",
   "metadata": {},
   "source": [
    "### 4. Run the Simulation Using invoke\n",
    "Now, run the simulation using the invoke method. This method will use the structured input data to execute the simulation."
   ]
  },
  {
   "cell_type": "code",
   "execution_count": 283,
   "metadata": {},
   "outputs": [
    {
     "name": "stderr",
     "output_type": "stream",
     "text": [
      "2024-12-10 00:33:00.487 WARNING streamlit.runtime.scriptrunner_utils.script_run_context: Thread 'MainThread': missing ScriptRunContext! This warning can be ignored when running in bare mode.\n",
      "2024-12-10 00:33:00.488 WARNING streamlit.runtime.scriptrunner_utils.script_run_context: Thread 'MainThread': missing ScriptRunContext! This warning can be ignored when running in bare mode.\n",
      "2024-12-10 00:33:02.793 WARNING streamlit.runtime.scriptrunner_utils.script_run_context: Thread 'MainThread': missing ScriptRunContext! This warning can be ignored when running in bare mode.\n",
      "2024-12-10 00:33:02.795 WARNING streamlit.runtime.scriptrunner_utils.script_run_context: Thread 'MainThread': missing ScriptRunContext! This warning can be ignored when running in bare mode.\n"
     ]
    }
   ],
   "source": [
    "reponse = simulate_tool.invoke(input ={\n",
    "    \"model_data\": {\"modelid\" : model_data.modelid},\n",
    "    \"time_data\": {\"duration\" : time_data.duration,\n",
    "                    \"interval\" : time_data.interval},\n",
    "    \"species_data\" : {\"species_name\" : species_data.species_name,\n",
    "                    \"species_concentration\" : species_data.species_concentration},\n",
    "    \"recurring_data\"  : {\"data\": new_data}\n",
    "    })"
   ]
  },
  {
   "cell_type": "markdown",
   "metadata": {},
   "source": [
    "### 5. Display the Results\n",
    "Finally, display the simulation results in the Jupyter notebook using print."
   ]
  },
  {
   "cell_type": "code",
   "execution_count": 284,
   "metadata": {},
   "outputs": [
    {
     "name": "stderr",
     "output_type": "stream",
     "text": [
      "2024-12-10 00:33:03.180 WARNING streamlit.runtime.scriptrunner_utils.script_run_context: Thread 'MainThread': missing ScriptRunContext! This warning can be ignored when running in bare mode.\n"
     ]
    }
   ],
   "source": [
    "df =st.session_state[\"test_key\"].simulation_results\n",
    "# Retrieve and display simulation results from st.session_state"
   ]
  },
  {
   "cell_type": "code",
   "execution_count": null,
   "metadata": {},
   "outputs": [
    {
     "data": {
      "text/plain": [
       "0     100.000000\n",
       "1     210.456232\n",
       "2     217.986846\n",
       "3     219.501977\n",
       "4     219.271887\n",
       "5     218.450524\n",
       "6     198.450980\n",
       "7     211.093574\n",
       "8     213.313174\n",
       "9     212.665273\n",
       "10    211.131418\n",
       "Name: CRP[serum], dtype: float64"
      ]
     },
     "execution_count": 286,
     "metadata": {},
     "output_type": "execute_result"
    }
   ],
   "source": [
    "df[\"CRP[serum]\"]\n",
    "# For example, the  rows of CRP concentration can be shown"
   ]
  },
  {
   "cell_type": "markdown",
   "metadata": {},
   "source": [
    "## **Quick Start with AskQuestion Tool** "
   ]
  },
  {
   "cell_type": "markdown",
   "metadata": {},
   "source": [
    "### 1. Import Required Packages\n",
    "Ensure that the required package (aiagents4pharma) is installed and imported correctly."
   ]
  },
  {
   "cell_type": "code",
   "execution_count": 293,
   "metadata": {},
   "outputs": [],
   "source": [
    "from aiagents4pharma.talk2biomodels.tools.ask_question import AskQuestionTool, AskQuestionInput"
   ]
  },
  {
   "cell_type": "markdown",
   "metadata": {},
   "source": [
    "### 2. Initialize the Tool\n",
    "Create an instance of the AskQuestionTool."
   ]
  },
  {
   "cell_type": "code",
   "execution_count": 294,
   "metadata": {},
   "outputs": [],
   "source": [
    "ask_question_tool = AskQuestionTool(return_direct=True,st_session_key=\"test_key\")"
   ]
  },
  {
   "cell_type": "markdown",
   "metadata": {},
   "source": [
    "### 3. Define the Input Question\n",
    "Define the input question in the required structure."
   ]
  },
  {
   "cell_type": "code",
   "execution_count": 295,
   "metadata": {},
   "outputs": [],
   "source": [
    "# Prepare the input for invoking the tool\n",
    "input_data = {\n",
    "    \"question\": \"What is the concentration of CRP[serum] at time 50?\",\n",
    "    \"sys_bio_model\": \"simulation_results\"\n",
    "}"
   ]
  },
  {
   "cell_type": "markdown",
   "metadata": {},
   "source": [
    "### 4. Run the Question Using invoke\n",
    "Now, use the invoke method to get the answer to the question."
   ]
  },
  {
   "cell_type": "code",
   "execution_count": 296,
   "metadata": {},
   "outputs": [
    {
     "name": "stderr",
     "output_type": "stream",
     "text": [
      "2024-12-10 00:46:10.123 Thread 'MainThread': missing ScriptRunContext! This warning can be ignored when running in bare mode.\n",
      "2024-12-10 00:46:10.124 Thread 'MainThread': missing ScriptRunContext! This warning can be ignored when running in bare mode.\n",
      "2024-12-10 00:46:10.125 Thread 'MainThread': missing ScriptRunContext! This warning can be ignored when running in bare mode.\n",
      "2024-12-10 00:46:10.126 Thread 'MainThread': missing ScriptRunContext! This warning can be ignored when running in bare mode.\n",
      "2024-12-10 00:46:10.128 Thread 'MainThread': missing ScriptRunContext! This warning can be ignored when running in bare mode.\n",
      "2024-12-10 00:46:10.129 Thread 'MainThread': missing ScriptRunContext! This warning can be ignored when running in bare mode.\n",
      "2024-12-10 00:46:10.139 Thread 'MainThread': missing ScriptRunContext! This warning can be ignored when running in bare mode.\n",
      "2024-12-10 00:46:10.140 Thread 'MainThread': missing ScriptRunContext! This warning can be ignored when running in bare mode.\n"
     ]
    }
   ],
   "source": [
    "# Invoke the tool and get the response\n",
    "response_ = ask_question_tool.invoke( input=input_data)"
   ]
  },
  {
   "cell_type": "markdown",
   "metadata": {},
   "source": [
    "### 5. Display the Answer\n",
    "Finally, display the answer in the Jupyter notebook."
   ]
  },
  {
   "cell_type": "code",
   "execution_count": 297,
   "metadata": {},
   "outputs": [
    {
     "name": "stdout",
     "output_type": "stream",
     "text": [
      "The concentration of CRP[serum] at time 50 is 218.450524.\n"
     ]
    }
   ],
   "source": [
    "# Print the response\n",
    "print(response_)"
   ]
  },
  {
   "cell_type": "code",
   "execution_count": 298,
   "metadata": {},
   "outputs": [
    {
     "data": {
      "text/plain": [
       "0    100.000000\n",
       "1    210.456232\n",
       "2    217.986846\n",
       "3    219.501977\n",
       "4    219.271887\n",
       "5    218.450524\n",
       "Name: CRP[serum], dtype: float64"
      ]
     },
     "execution_count": 298,
     "metadata": {},
     "output_type": "execute_result"
    }
   ],
   "source": [
    "df[\"CRP[serum]\"].head(6)"
   ]
  },
  {
   "cell_type": "markdown",
   "metadata": {},
   "source": [
    "At the timestamp 5, the value obtained is 218.450524. Upon verification:\n",
    "\n",
    "- The LLM's response matches this value accurately.\n",
    "- The value is consistent with the corresponding entry in the dataframe (df) above.\n",
    "\n",
    "This alignment confirms that the model is functioning correctly, as the tool's output is validated against the simulation results."
   ]
  }
 ],
 "metadata": {
  "kernelspec": {
   "display_name": "venv",
   "language": "python",
   "name": "python3"
  },
  "language_info": {
   "codemirror_mode": {
    "name": "ipython",
    "version": 3
   },
   "file_extension": ".py",
   "mimetype": "text/x-python",
   "name": "python",
   "nbconvert_exporter": "python",
   "pygments_lexer": "ipython3",
   "version": "3.12.8"
  }
 },
 "nbformat": 4,
 "nbformat_minor": 2
}
