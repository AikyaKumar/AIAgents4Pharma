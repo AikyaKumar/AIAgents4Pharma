{
 "cells": [
  {
   "cell_type": "markdown",
   "metadata": {},
   "source": [
    "# Tutorial: PrimeKG Loader"
   ]
  },
  {
   "cell_type": "markdown",
   "metadata": {},
   "source": [
    "In this tutorial, we will explain how to load dataframes of PrimeKG containing the information of the entities and the relations of the knowledge graph.\n",
    "\n",
    "Prior information about the PrimeKG can be found in the following repositories:\n",
    "- https://github.com/mims-harvard/PrimeKG\n",
    "- https://github.com/mims-harvard/TDC/"
   ]
  },
  {
   "cell_type": "markdown",
   "metadata": {},
   "source": [
    "Note that we are leveraging the PrimeKG provided in Harvard Dataverse, which is publicly available in the following link:\n",
    "\n",
    "https://dataverse.harvard.edu/dataset.xhtml?persistentId=doi:10.7910/DVN/IXA7BM\n",
    "\n",
    "By the time we are writing this tutorial, the latest version of PrimeKG (`kg.csv`) is `2.1`."
   ]
  },
  {
   "cell_type": "markdown",
   "metadata": {},
   "source": [
    "First of all, we need to import necessary libraries as follows:"
   ]
  },
  {
   "cell_type": "code",
   "execution_count": null,
   "metadata": {},
   "outputs": [],
   "source": [
    "# Import necessary libraries\n",
    "import sys\n",
    "sys.path.append('../../..')\n",
    "from aiagents4pharma.talk2knowledgegraphs.tools.primekg_loader import PrimeKGData, PrimeKGLoaderInput, PrimeKGLoaderTool"
   ]
  },
  {
   "cell_type": "markdown",
   "metadata": {},
   "source": [
    "### Load PrimeKG"
   ]
  },
  {
   "cell_type": "markdown",
   "metadata": {},
   "source": [
    "The `PrimeKGLoaderTool` allows to load the data from the Harvard Dataverse server if the data is not available locally. \n",
    "\n",
    "Otherwise, the data is loaded from the local directory as defined in the `local_dir` parameter set in `PrimeKGData`."
   ]
  },
  {
   "cell_type": "code",
   "execution_count": null,
   "metadata": {},
   "outputs": [],
   "source": [
    "# Define primekg data by providing a local directory where the data is stored\n",
    "primekg_data = PrimeKGData(local_dir=\"../../../../data/primekg_test/\")\n",
    "\n",
    "# Define primekg loader input by providing the primekg data\n",
    "loader_input = PrimeKGLoaderInput(data=primekg_data)"
   ]
  },
  {
   "cell_type": "markdown",
   "metadata": {},
   "source": [
    "To load the dataframes of nodes and edges from PrimeKG, we just need to invoke the tool as follows."
   ]
  },
  {
   "cell_type": "code",
   "execution_count": null,
   "metadata": {},
   "outputs": [],
   "source": [
    "# Define primekg loader tool and call run method to load the dataframes of nodes and edges\n",
    "tool = PrimeKGLoaderTool()\n",
    "primekg_nodes, primekg_edges = tool.call_run(loader_input.data.name,\n",
    "                                             loader_input.data.server_path,\n",
    "                                             loader_input.data.file_id,\n",
    "                                             loader_input.data.local_dir)\n"
   ]
  },
  {
   "cell_type": "markdown",
   "metadata": {},
   "source": [
    "### Check PrimeKG Dataframes"
   ]
  },
  {
   "cell_type": "markdown",
   "metadata": {},
   "source": [
    "As aforementioned, the primekg_nodes and primekg_edges are the dataframes of nodes and edges, respectively. \n",
    "\n",
    "We can further analyze the dataframes to extract the information we need.\n",
    "\n",
    "For instance, we can construct a graph from the nodes and edges dataframes using networkx library."
   ]
  },
  {
   "cell_type": "markdown",
   "metadata": {},
   "source": [
    "#### PrimeKG Nodes"
   ]
  },
  {
   "cell_type": "markdown",
   "metadata": {},
   "source": [
    "`primekg_nodes` is a dataframe of nodes, which has the following columns:\n",
    "- `node_index`: the index of the node\n",
    "- `node`: the node name\n",
    "- `node_id`: the id of the node (currently set as node name itself, for visualization purposes)\n",
    "- `node_uid`: the unique identifier of the node (source name + unique id)\n",
    "- `node_type`: the type of the node\n",
    "\n",
    "We can check a sample of the primekg nodes to see the list of nodes in the PrimeKG dataset as follows."
   ]
  },
  {
   "cell_type": "code",
   "execution_count": null,
   "metadata": {},
   "outputs": [],
   "source": [
    "# Check a sample of the primekg nodes\n",
    "primekg_nodes.head()"
   ]
  },
  {
   "cell_type": "markdown",
   "metadata": {},
   "source": [
    "The current PrimeKG has about 130K of nodes in total as we can observe in the following cell."
   ]
  },
  {
   "cell_type": "code",
   "execution_count": null,
   "metadata": {},
   "outputs": [],
   "source": [
    "# Check dimensions of the primekg nodes\n",
    "primekg_nodes.shape"
   ]
  },
  {
   "cell_type": "markdown",
   "metadata": {},
   "source": [
    " We can breakdown the statistics of the primekg nodes by their types as follows."
   ]
  },
  {
   "cell_type": "code",
   "execution_count": null,
   "metadata": {},
   "outputs": [],
   "source": [
    "# Show node types and their counts\n",
    "primekg_nodes['node_type'].value_counts()"
   ]
  },
  {
   "cell_type": "markdown",
   "metadata": {},
   "source": [
    "PrimeKG was built using various sources as we can observe from their node unique sources as follows."
   ]
  },
  {
   "cell_type": "code",
   "execution_count": null,
   "metadata": {},
   "outputs": [],
   "source": [
    "# Show source of the primekg nodes\n",
    "primekg_nodes['node_uid'].apply(lambda x: x.split(':')[0]).value_counts()"
   ]
  },
  {
   "cell_type": "markdown",
   "metadata": {},
   "source": [
    "#### PrimeKG Edges"
   ]
  },
  {
   "cell_type": "markdown",
   "metadata": {},
   "source": [
    "`primekg_edges` is a dataframe of edges, which has the following columns:\n",
    "- `node_source_index`: the index of the source node\n",
    "- `node_source`: the name of the source node\n",
    "- `node_source_uid`: the unique identifier of the source node\n",
    "- `node_target_index`: the index of the target node\n",
    "- `node_target`: the name of the target node\n",
    "- `node_target_uid`: the unique identifier of the target node\n",
    "- `edge_type`: the type of the edge"
   ]
  },
  {
   "cell_type": "markdown",
   "metadata": {},
   "source": [
    "We can also check a sample of the primekg edges to see the interconnections between the nodes in the PrimeKG dataset as follows."
   ]
  },
  {
   "cell_type": "code",
   "execution_count": null,
   "metadata": {},
   "outputs": [],
   "source": [
    "# Check a sample of the primekg edges\n",
    "primekg_edges.head()"
   ]
  },
  {
   "cell_type": "markdown",
   "metadata": {},
   "source": [
    "The current PrimeKG has about 8.1M of edges in total as we can observe in the following cell."
   ]
  },
  {
   "cell_type": "code",
   "execution_count": null,
   "metadata": {},
   "outputs": [],
   "source": [
    "# Check dimensions of the primekg nodes\n",
    "primekg_edges.shape"
   ]
  },
  {
   "cell_type": "markdown",
   "metadata": {},
   "source": [
    " We can breakdown the statistics of the primekg edges by their types as follows."
   ]
  },
  {
   "cell_type": "code",
   "execution_count": null,
   "metadata": {},
   "outputs": [],
   "source": [
    "# Show edge types and their counts\n",
    "primekg_edges['edge_type'].value_counts()"
   ]
  }
 ],
 "metadata": {
  "kernelspec": {
   "display_name": "venv",
   "language": "python",
   "name": "python3"
  },
  "language_info": {
   "codemirror_mode": {
    "name": "ipython",
    "version": 3
   },
   "file_extension": ".py",
   "mimetype": "text/x-python",
   "name": "python",
   "nbconvert_exporter": "python",
   "pygments_lexer": "ipython3",
   "version": "3.12.8"
  }
 },
 "nbformat": 4,
 "nbformat_minor": 2
}
