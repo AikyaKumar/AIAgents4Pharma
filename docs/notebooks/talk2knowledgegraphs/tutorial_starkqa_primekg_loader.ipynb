{
 "cells": [
  {
   "cell_type": "markdown",
   "metadata": {},
   "source": [
    "# Tutorial: StarkQA-PrimeKG Loader"
   ]
  },
  {
   "cell_type": "markdown",
   "metadata": {},
   "source": [
    "In this tutorial, we will explain how to load StarkQA-PrimeKG dataset, which is a dataset for question answering over knowledge graphs of PrimeKG. \n",
    "\n",
    "Prior information about the StarkQA-PrimeKG dataaset can be found in the following repositories:\n",
    "- https://github.com/snap-stanford/stark\n",
    "- https://stark.stanford.edu/\n",
    "- https://huggingface.co/datasets/snap-stanford/stark"
   ]
  },
  {
   "cell_type": "markdown",
   "metadata": {},
   "source": [
    "We first need to import the necessary libraries as follows."
   ]
  },
  {
   "cell_type": "code",
   "execution_count": 1,
   "metadata": {},
   "outputs": [
    {
     "name": "stderr",
     "output_type": "stream",
     "text": [
      "c:\\Users\\mulyadi\\Repo\\AIAgents4Pharma\\venv\\Lib\\site-packages\\pydantic\\_internal\\_fields.py:132: UserWarning: Field \"model_id\" in SysBioModel has conflict with protected namespace \"model_\".\n",
      "\n",
      "You may be able to resolve this warning by setting `model_config['protected_namespaces'] = ()`.\n",
      "  warnings.warn(\n",
      "c:\\Users\\mulyadi\\Repo\\AIAgents4Pharma\\venv\\Lib\\site-packages\\pydantic\\_internal\\_fields.py:132: UserWarning: Field \"model_id\" in BasicoModel has conflict with protected namespace \"model_\".\n",
      "\n",
      "You may be able to resolve this warning by setting `model_config['protected_namespaces'] = ()`.\n",
      "  warnings.warn(\n",
      "c:\\Users\\mulyadi\\Repo\\AIAgents4Pharma\\venv\\Lib\\site-packages\\pydantic\\_internal\\_fields.py:132: UserWarning: Field \"model_data\" in SimulateModelInput has conflict with protected namespace \"model_\".\n",
      "\n",
      "You may be able to resolve this warning by setting `model_config['protected_namespaces'] = ()`.\n",
      "  warnings.warn(\n"
     ]
    }
   ],
   "source": [
    "# Import necessary libraries\n",
    "import sys\n",
    "sys.path.append('../../..')\n",
    "from aiagents4pharma.talk2knowledgegraphs.datasets.starkqa_primekg import StarkQAPrimeKG"
   ]
  },
  {
   "cell_type": "markdown",
   "metadata": {},
   "source": [
    "### Load StarQA-PrimeKG"
   ]
  },
  {
   "cell_type": "markdown",
   "metadata": {},
   "source": [
    "The `StarkQAPrimeKG` allows to load the data from the HuggingFace Hub if the data is not available locally. \n",
    "\n",
    "Otherwise, the data is loaded from the local directory as defined in the `local_dir`."
   ]
  },
  {
   "cell_type": "code",
   "execution_count": 2,
   "metadata": {},
   "outputs": [],
   "source": [
    "# Define starkqa primekg data by providing a local directory where the data is stored\n",
    "starkqa_data = StarkQAPrimeKG(local_dir=\"../../../../data/starkqa_primekg_test/\")"
   ]
  },
  {
   "cell_type": "markdown",
   "metadata": {},
   "source": [
    "To load the dataframes of StarkQA and its split, we just need a method as follows."
   ]
  },
  {
   "cell_type": "code",
   "execution_count": 4,
   "metadata": {},
   "outputs": [
    {
     "name": "stdout",
     "output_type": "stream",
     "text": [
      "Downloading files from snap-stanford/stark\n"
     ]
    },
    {
     "name": "stderr",
     "output_type": "stream",
     "text": [
      "  0%|          | 0/7 [00:00<?, ?it/s]"
     ]
    },
    {
     "data": {
      "application/vnd.jupyter.widget-view+json": {
       "model_id": "f8197b77fe084ca89e8e2d17f7875c30",
       "version_major": 2,
       "version_minor": 0
      },
      "text/plain": [
       "qa/prime/split/test-0.1.index:   0%|          | 0.00/1.39k [00:00<?, ?B/s]"
      ]
     },
     "metadata": {},
     "output_type": "display_data"
    },
    {
     "name": "stderr",
     "output_type": "stream",
     "text": [
      " 14%|█▍        | 1/7 [00:00<00:01,  3.57it/s]"
     ]
    },
    {
     "data": {
      "application/vnd.jupyter.widget-view+json": {
       "model_id": "2375ae7ba4ef4d39bd0ddb36b6402772",
       "version_major": 2,
       "version_minor": 0
      },
      "text/plain": [
       "qa/prime/split/test.index:   0%|          | 0.00/14.0k [00:00<?, ?B/s]"
      ]
     },
     "metadata": {},
     "output_type": "display_data"
    },
    {
     "name": "stderr",
     "output_type": "stream",
     "text": [
      " 29%|██▊       | 2/7 [00:00<00:01,  3.47it/s]"
     ]
    },
    {
     "data": {
      "application/vnd.jupyter.widget-view+json": {
       "model_id": "36c3d8df591542138ef35f13352d8f80",
       "version_major": 2,
       "version_minor": 0
      },
      "text/plain": [
       "qa/prime/split/train.index:   0%|          | 0.00/30.9k [00:00<?, ?B/s]"
      ]
     },
     "metadata": {},
     "output_type": "display_data"
    },
    {
     "name": "stderr",
     "output_type": "stream",
     "text": [
      " 43%|████▎     | 3/7 [00:00<00:01,  3.63it/s]"
     ]
    },
    {
     "data": {
      "application/vnd.jupyter.widget-view+json": {
       "model_id": "8db05e0775ae44e7a6760042d5b4f767",
       "version_major": 2,
       "version_minor": 0
      },
      "text/plain": [
       "qa/prime/split/val.index:   0%|          | 0.00/11.2k [00:00<?, ?B/s]"
      ]
     },
     "metadata": {},
     "output_type": "display_data"
    },
    {
     "name": "stderr",
     "output_type": "stream",
     "text": [
      " 57%|█████▋    | 4/7 [00:01<00:00,  3.58it/s]"
     ]
    },
    {
     "data": {
      "application/vnd.jupyter.widget-view+json": {
       "model_id": "47c9c18668de48608ba99011a9ac932d",
       "version_major": 2,
       "version_minor": 0
      },
      "text/plain": [
       "qa/prime/stark_qa/stark_qa.csv:   0%|          | 0.00/2.06M [00:00<?, ?B/s]"
      ]
     },
     "metadata": {},
     "output_type": "display_data"
    },
    {
     "name": "stderr",
     "output_type": "stream",
     "text": [
      " 71%|███████▏  | 5/7 [00:01<00:00,  3.08it/s]"
     ]
    },
    {
     "data": {
      "application/vnd.jupyter.widget-view+json": {
       "model_id": "16d92d93e6c84245a5349c2eff5c28ee",
       "version_major": 2,
       "version_minor": 0
      },
      "text/plain": [
       "(…)ark_qa/stark_qa_human_generated_eval.csv:   0%|          | 0.00/14.8k [00:00<?, ?B/s]"
      ]
     },
     "metadata": {},
     "output_type": "display_data"
    },
    {
     "name": "stderr",
     "output_type": "stream",
     "text": [
      " 86%|████████▌ | 6/7 [00:01<00:00,  3.28it/s]"
     ]
    },
    {
     "data": {
      "application/vnd.jupyter.widget-view+json": {
       "model_id": "ad8fee38d3684ccbb68ce1fbdfd48045",
       "version_major": 2,
       "version_minor": 0
      },
      "text/plain": [
       "processed.zip:   0%|          | 0.00/28.0M [00:00<?, ?B/s]"
      ]
     },
     "metadata": {},
     "output_type": "display_data"
    },
    {
     "name": "stderr",
     "output_type": "stream",
     "text": [
      "100%|██████████| 7/7 [00:02<00:00,  2.38it/s]\n"
     ]
    }
   ],
   "source": [
    "# Invoke a method to load the data\n",
    "starkqa_data.load_data()\n",
    "\n",
    "# Get the StarkQAPrimeKG data, which are the QA pairs, split indices, and the node information\n",
    "starkqa_df = starkqa_data.get_starkqa()\n",
    "starkqa_split_indices = starkqa_data.get_starkqa_split_indicies()\n",
    "starkqa_node_info = starkqa_data.get_starkqa_node_info()"
   ]
  },
  {
   "cell_type": "markdown",
   "metadata": {},
   "source": [
    "### Check StarQA-PrimeKG Dataframes"
   ]
  },
  {
   "cell_type": "markdown",
   "metadata": {},
   "source": [
    "\n",
    "StarkQA dataframes contain the following columns:\n",
    "- `id`: Unique identifier for each question and answer pair\n",
    "- `query`: The synthesized question from the StarkQA dataset\n",
    "- `answer_ids`: The unique identifier for the answer to the question (multiple answers are possible)"
   ]
  },
  {
   "cell_type": "code",
   "execution_count": 6,
   "metadata": {},
   "outputs": [
    {
     "data": {
      "text/html": [
       "<div>\n",
       "<style scoped>\n",
       "    .dataframe tbody tr th:only-of-type {\n",
       "        vertical-align: middle;\n",
       "    }\n",
       "\n",
       "    .dataframe tbody tr th {\n",
       "        vertical-align: top;\n",
       "    }\n",
       "\n",
       "    .dataframe thead th {\n",
       "        text-align: right;\n",
       "    }\n",
       "</style>\n",
       "<table border=\"1\" class=\"dataframe\">\n",
       "  <thead>\n",
       "    <tr style=\"text-align: right;\">\n",
       "      <th></th>\n",
       "      <th>id</th>\n",
       "      <th>query</th>\n",
       "      <th>answer_ids</th>\n",
       "    </tr>\n",
       "  </thead>\n",
       "  <tbody>\n",
       "    <tr>\n",
       "      <th>0</th>\n",
       "      <td>0</td>\n",
       "      <td>Could you identify any skin diseases associate...</td>\n",
       "      <td>[95886]</td>\n",
       "    </tr>\n",
       "    <tr>\n",
       "      <th>1</th>\n",
       "      <td>1</td>\n",
       "      <td>What drugs target the CYP3A4 enzyme and are us...</td>\n",
       "      <td>[15450]</td>\n",
       "    </tr>\n",
       "    <tr>\n",
       "      <th>2</th>\n",
       "      <td>2</td>\n",
       "      <td>What is the name of the condition characterize...</td>\n",
       "      <td>[98851, 98853]</td>\n",
       "    </tr>\n",
       "    <tr>\n",
       "      <th>3</th>\n",
       "      <td>3</td>\n",
       "      <td>What drugs are used to treat epithelioid sarco...</td>\n",
       "      <td>[15698]</td>\n",
       "    </tr>\n",
       "    <tr>\n",
       "      <th>4</th>\n",
       "      <td>4</td>\n",
       "      <td>Can you supply a compilation of genes and prot...</td>\n",
       "      <td>[7161, 22045]</td>\n",
       "    </tr>\n",
       "  </tbody>\n",
       "</table>\n",
       "</div>"
      ],
      "text/plain": [
       "   id                                              query      answer_ids\n",
       "0   0  Could you identify any skin diseases associate...         [95886]\n",
       "1   1  What drugs target the CYP3A4 enzyme and are us...         [15450]\n",
       "2   2  What is the name of the condition characterize...  [98851, 98853]\n",
       "3   3  What drugs are used to treat epithelioid sarco...         [15698]\n",
       "4   4  Can you supply a compilation of genes and prot...   [7161, 22045]"
      ]
     },
     "execution_count": 6,
     "metadata": {},
     "output_type": "execute_result"
    }
   ],
   "source": [
    "# Check a sample of the starkqa primekg dataframe\n",
    "starkqa_df.head()"
   ]
  },
  {
   "cell_type": "markdown",
   "metadata": {},
   "source": [
    "The current StarkQA-PrimeKG has about 11K records of questions and answers pairs."
   ]
  },
  {
   "cell_type": "code",
   "execution_count": 7,
   "metadata": {},
   "outputs": [
    {
     "data": {
      "text/plain": [
       "(11204, 3)"
      ]
     },
     "execution_count": 7,
     "metadata": {},
     "output_type": "execute_result"
    }
   ],
   "source": [
    "# Check dimensions of the starkqa primekg dataframe\n",
    "starkqa_df.shape"
   ]
  },
  {
   "cell_type": "markdown",
   "metadata": {},
   "source": [
    "### CHeck StarkQA-PrimeKG Node Information"
   ]
  },
  {
   "cell_type": "markdown",
   "metadata": {},
   "source": [
    "StarkQA provides an additional node information for PrimeKG as a dictionary for each node.\n",
    "\n",
    "This allows us to further enrich the features of the knowledge graph nodes."
   ]
  },
  {
   "cell_type": "code",
   "execution_count": 8,
   "metadata": {},
   "outputs": [
    {
     "data": {
      "text/plain": [
       "{'id': 9796,\n",
       " 'type': 'gene/protein',\n",
       " 'name': 'PHYHIP',\n",
       " 'source': 'NCBI',\n",
       " 'details': {'query': 'PHYHIP',\n",
       "  '_id': '9796',\n",
       "  '_score': 17.934021,\n",
       "  'alias': ['DYRK1AP3', 'PAHX-AP', 'PAHXAP1'],\n",
       "  'genomic_pos': {'chr': '8',\n",
       "   'end': 22232101,\n",
       "   'ensemblgene': 'ENSG00000168490',\n",
       "   'start': 22219703,\n",
       "   'strand': -1},\n",
       "  'name': 'phytanoyl-CoA 2-hydroxylase interacting protein',\n",
       "  'summary': 'Enables protein tyrosine kinase binding activity. Involved in protein localization. Located in cytoplasm. [provided by Alliance of Genome Resources, Apr 2022]'}}"
      ]
     },
     "execution_count": 8,
     "metadata": {},
     "output_type": "execute_result"
    }
   ],
   "source": [
    "# Check the node information of PrimeKG\n",
    "starkqa_node_info[0]"
   ]
  },
  {
   "cell_type": "markdown",
   "metadata": {},
   "source": [
    "### Check StarQA-PrimeKG splits"
   ]
  },
  {
   "cell_type": "markdown",
   "metadata": {},
   "source": [
    "StarkQA-PrimeKG splits contain train, validation, and test indices for benchmarking the QA-driven AI models."
   ]
  },
  {
   "cell_type": "code",
   "execution_count": 9,
   "metadata": {},
   "outputs": [
    {
     "data": {
      "text/plain": [
       "dict_keys(['train', 'val', 'test', 'test-0.1'])"
      ]
     },
     "execution_count": 9,
     "metadata": {},
     "output_type": "execute_result"
    }
   ],
   "source": [
    "# Check the split indices of the starkqa primekg dataframe\n",
    "starkqa_split_indices.keys()"
   ]
  },
  {
   "cell_type": "markdown",
   "metadata": {},
   "source": [
    "Finally, we can check the number of each split as follows."
   ]
  },
  {
   "cell_type": "code",
   "execution_count": 10,
   "metadata": {},
   "outputs": [
    {
     "name": "stdout",
     "output_type": "stream",
     "text": [
      "train: 6162\n",
      "val: 2241\n",
      "test: 2801\n",
      "test-0.1: 280\n"
     ]
    }
   ],
   "source": [
    "# Check the number of samples in each split of the starkqa primekg dataframe\n",
    "for split, idx in starkqa_split_indices.items():\n",
    "    print(f\"{split}: {len(idx)}\")"
   ]
  }
 ],
 "metadata": {
  "kernelspec": {
   "display_name": "venv",
   "language": "python",
   "name": "python3"
  },
  "language_info": {
   "codemirror_mode": {
    "name": "ipython",
    "version": 3
   },
   "file_extension": ".py",
   "mimetype": "text/x-python",
   "name": "python",
   "nbconvert_exporter": "python",
   "pygments_lexer": "ipython3",
   "version": "3.12.8"
  }
 },
 "nbformat": 4,
 "nbformat_minor": 2
}
