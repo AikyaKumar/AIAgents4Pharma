{
 "cells": [
  {
   "cell_type": "markdown",
   "metadata": {},
   "source": [
    "# Tutorial: StarkQA-PrimeKG Loader"
   ]
  },
  {
   "cell_type": "markdown",
   "metadata": {},
   "source": [
    "In this tutorial, we will explain how to load StarkQA-PrimeKG dataset, which is a dataset for question answering over knowledge graphs of PrimeKG. \n",
    "\n",
    "Prior information about the StarkQA-PrimeKG dataaset can be found in the following repositories:\n",
    "- https://github.com/snap-stanford/stark\n",
    "- https://stark.stanford.edu/\n",
    "- https://huggingface.co/datasets/snap-stanford/stark"
   ]
  },
  {
   "cell_type": "markdown",
   "metadata": {},
   "source": [
    "We first need to import the necessary libraries as follows."
   ]
  },
  {
   "cell_type": "code",
   "execution_count": 1,
   "metadata": {},
   "outputs": [
    {
     "name": "stderr",
     "output_type": "stream",
     "text": [
      "c:\\Users\\mulyadi\\Repo\\AIAgents4Pharma\\venv\\Lib\\site-packages\\pydantic\\_internal\\_fields.py:132: UserWarning: Field \"model_id\" in SysBioModel has conflict with protected namespace \"model_\".\n",
      "\n",
      "You may be able to resolve this warning by setting `model_config['protected_namespaces'] = ()`.\n",
      "  warnings.warn(\n",
      "c:\\Users\\mulyadi\\Repo\\AIAgents4Pharma\\venv\\Lib\\site-packages\\pydantic\\_internal\\_fields.py:132: UserWarning: Field \"model_id\" in BasicoModel has conflict with protected namespace \"model_\".\n",
      "\n",
      "You may be able to resolve this warning by setting `model_config['protected_namespaces'] = ()`.\n",
      "  warnings.warn(\n",
      "c:\\Users\\mulyadi\\Repo\\AIAgents4Pharma\\venv\\Lib\\site-packages\\pydantic\\_internal\\_fields.py:132: UserWarning: Field \"model_data\" in SimulateModelInput has conflict with protected namespace \"model_\".\n",
      "\n",
      "You may be able to resolve this warning by setting `model_config['protected_namespaces'] = ()`.\n",
      "  warnings.warn(\n"
     ]
    }
   ],
   "source": [
    "# Import necessary libraries\n",
    "import sys\n",
    "sys.path.append('../../..')\n",
    "from aiagents4pharma.talk2knowledgegraphs.datasets.starkqa_primekg import StarkQAPrimeKG"
   ]
  },
  {
   "cell_type": "markdown",
   "metadata": {},
   "source": [
    "### Load StarQA-PrimeKG"
   ]
  },
  {
   "cell_type": "markdown",
   "metadata": {},
   "source": [
    "The `StarkQAPrimeKG` allows to load the data from the HuggingFace Hub if the data is not available locally. \n",
    "\n",
    "Otherwise, the data is loaded from the local directory as defined in the `local_dir`."
   ]
  },
  {
   "cell_type": "code",
   "execution_count": 2,
   "metadata": {},
   "outputs": [],
   "source": [
    "# Define starkqa primekg data by providing a local directory where the data is stored\n",
    "starkqa_data = StarkQAPrimeKG(local_dir=\"../../../../data/starkqa_primekg_test/\")"
   ]
  },
  {
   "cell_type": "markdown",
   "metadata": {},
   "source": [
    "To load the dataframes of StarkQA and its split, we just need a method as follows."
   ]
  },
  {
   "cell_type": "code",
   "execution_count": 3,
   "metadata": {},
   "outputs": [
    {
     "name": "stdout",
     "output_type": "stream",
     "text": [
      "Loading StarkQAPrimeKG dataset...\n",
      "../../../../data/starkqa_primekg_test/qa/prime/stark_qa/stark_qa.csv already exists. Loading the data from the local directory.\n"
     ]
    }
   ],
   "source": [
    "# Invoke a method to load the data\n",
    "starkqa_data.load_data()\n",
    "\n",
    "# Get the StarkQAPrimeKG data, which are the QA pairs, split indices, and the node information\n",
    "starkqa_df = starkqa_data.get_starkqa()\n",
    "starkqa_split_indices = starkqa_data.get_starkqa_split_indicies()\n",
    "starkqa_node_info = starkqa_data.get_starkqa_node_info()"
   ]
  },
  {
   "cell_type": "code",
   "execution_count": 4,
   "metadata": {},
   "outputs": [
    {
     "data": {
      "text/html": [
       "<div>\n",
       "<style scoped>\n",
       "    .dataframe tbody tr th:only-of-type {\n",
       "        vertical-align: middle;\n",
       "    }\n",
       "\n",
       "    .dataframe tbody tr th {\n",
       "        vertical-align: top;\n",
       "    }\n",
       "\n",
       "    .dataframe thead th {\n",
       "        text-align: right;\n",
       "    }\n",
       "</style>\n",
       "<table border=\"1\" class=\"dataframe\">\n",
       "  <thead>\n",
       "    <tr style=\"text-align: right;\">\n",
       "      <th></th>\n",
       "      <th>id</th>\n",
       "      <th>query</th>\n",
       "      <th>answer_ids</th>\n",
       "    </tr>\n",
       "  </thead>\n",
       "  <tbody>\n",
       "    <tr>\n",
       "      <th>0</th>\n",
       "      <td>0</td>\n",
       "      <td>Could you identify any skin diseases associate...</td>\n",
       "      <td>[95886]</td>\n",
       "    </tr>\n",
       "    <tr>\n",
       "      <th>1</th>\n",
       "      <td>1</td>\n",
       "      <td>What drugs target the CYP3A4 enzyme and are us...</td>\n",
       "      <td>[15450]</td>\n",
       "    </tr>\n",
       "    <tr>\n",
       "      <th>2</th>\n",
       "      <td>2</td>\n",
       "      <td>What is the name of the condition characterize...</td>\n",
       "      <td>[98851, 98853]</td>\n",
       "    </tr>\n",
       "    <tr>\n",
       "      <th>3</th>\n",
       "      <td>3</td>\n",
       "      <td>What drugs are used to treat epithelioid sarco...</td>\n",
       "      <td>[15698]</td>\n",
       "    </tr>\n",
       "    <tr>\n",
       "      <th>4</th>\n",
       "      <td>4</td>\n",
       "      <td>Can you supply a compilation of genes and prot...</td>\n",
       "      <td>[7161, 22045]</td>\n",
       "    </tr>\n",
       "    <tr>\n",
       "      <th>...</th>\n",
       "      <td>...</td>\n",
       "      <td>...</td>\n",
       "      <td>...</td>\n",
       "    </tr>\n",
       "    <tr>\n",
       "      <th>11199</th>\n",
       "      <td>11199</td>\n",
       "      <td>Which gene or protein is not expressed in fema...</td>\n",
       "      <td>[2414]</td>\n",
       "    </tr>\n",
       "    <tr>\n",
       "      <th>11200</th>\n",
       "      <td>11200</td>\n",
       "      <td>Could you identify a biological pathway in whi...</td>\n",
       "      <td>[128199]</td>\n",
       "    </tr>\n",
       "    <tr>\n",
       "      <th>11201</th>\n",
       "      <td>11201</td>\n",
       "      <td>Is there an interaction between genes or prote...</td>\n",
       "      <td>[127611, 62903]</td>\n",
       "    </tr>\n",
       "    <tr>\n",
       "      <th>11202</th>\n",
       "      <td>11202</td>\n",
       "      <td>Which pharmacological agents that stimulate os...</td>\n",
       "      <td>[20180]</td>\n",
       "    </tr>\n",
       "    <tr>\n",
       "      <th>11203</th>\n",
       "      <td>11203</td>\n",
       "      <td>Identify common genetic targets that serve as ...</td>\n",
       "      <td>[8094]</td>\n",
       "    </tr>\n",
       "  </tbody>\n",
       "</table>\n",
       "<p>11204 rows × 3 columns</p>\n",
       "</div>"
      ],
      "text/plain": [
       "          id                                              query  \\\n",
       "0          0  Could you identify any skin diseases associate...   \n",
       "1          1  What drugs target the CYP3A4 enzyme and are us...   \n",
       "2          2  What is the name of the condition characterize...   \n",
       "3          3  What drugs are used to treat epithelioid sarco...   \n",
       "4          4  Can you supply a compilation of genes and prot...   \n",
       "...      ...                                                ...   \n",
       "11199  11199  Which gene or protein is not expressed in fema...   \n",
       "11200  11200  Could you identify a biological pathway in whi...   \n",
       "11201  11201  Is there an interaction between genes or prote...   \n",
       "11202  11202  Which pharmacological agents that stimulate os...   \n",
       "11203  11203  Identify common genetic targets that serve as ...   \n",
       "\n",
       "            answer_ids  \n",
       "0              [95886]  \n",
       "1              [15450]  \n",
       "2       [98851, 98853]  \n",
       "3              [15698]  \n",
       "4        [7161, 22045]  \n",
       "...                ...  \n",
       "11199           [2414]  \n",
       "11200         [128199]  \n",
       "11201  [127611, 62903]  \n",
       "11202          [20180]  \n",
       "11203           [8094]  \n",
       "\n",
       "[11204 rows x 3 columns]"
      ]
     },
     "execution_count": 4,
     "metadata": {},
     "output_type": "execute_result"
    }
   ],
   "source": [
    "starkqa_data.starkqa"
   ]
  },
  {
   "cell_type": "markdown",
   "metadata": {},
   "source": [
    "### Check StarQA-PrimeKG Dataframes"
   ]
  },
  {
   "cell_type": "markdown",
   "metadata": {},
   "source": [
    "\n",
    "StarkQA dataframes contain the following columns:\n",
    "- `id`: Unique identifier for each question and answer pair\n",
    "- `query`: The synthesized question from the StarkQA dataset\n",
    "- `answer_ids`: The unique identifier for the answer to the question (multiple answers are possible)"
   ]
  },
  {
   "cell_type": "code",
   "execution_count": 5,
   "metadata": {},
   "outputs": [
    {
     "data": {
      "text/html": [
       "<div>\n",
       "<style scoped>\n",
       "    .dataframe tbody tr th:only-of-type {\n",
       "        vertical-align: middle;\n",
       "    }\n",
       "\n",
       "    .dataframe tbody tr th {\n",
       "        vertical-align: top;\n",
       "    }\n",
       "\n",
       "    .dataframe thead th {\n",
       "        text-align: right;\n",
       "    }\n",
       "</style>\n",
       "<table border=\"1\" class=\"dataframe\">\n",
       "  <thead>\n",
       "    <tr style=\"text-align: right;\">\n",
       "      <th></th>\n",
       "      <th>id</th>\n",
       "      <th>query</th>\n",
       "      <th>answer_ids</th>\n",
       "    </tr>\n",
       "  </thead>\n",
       "  <tbody>\n",
       "    <tr>\n",
       "      <th>0</th>\n",
       "      <td>0</td>\n",
       "      <td>Could you identify any skin diseases associate...</td>\n",
       "      <td>[95886]</td>\n",
       "    </tr>\n",
       "    <tr>\n",
       "      <th>1</th>\n",
       "      <td>1</td>\n",
       "      <td>What drugs target the CYP3A4 enzyme and are us...</td>\n",
       "      <td>[15450]</td>\n",
       "    </tr>\n",
       "    <tr>\n",
       "      <th>2</th>\n",
       "      <td>2</td>\n",
       "      <td>What is the name of the condition characterize...</td>\n",
       "      <td>[98851, 98853]</td>\n",
       "    </tr>\n",
       "    <tr>\n",
       "      <th>3</th>\n",
       "      <td>3</td>\n",
       "      <td>What drugs are used to treat epithelioid sarco...</td>\n",
       "      <td>[15698]</td>\n",
       "    </tr>\n",
       "    <tr>\n",
       "      <th>4</th>\n",
       "      <td>4</td>\n",
       "      <td>Can you supply a compilation of genes and prot...</td>\n",
       "      <td>[7161, 22045]</td>\n",
       "    </tr>\n",
       "  </tbody>\n",
       "</table>\n",
       "</div>"
      ],
      "text/plain": [
       "   id                                              query      answer_ids\n",
       "0   0  Could you identify any skin diseases associate...         [95886]\n",
       "1   1  What drugs target the CYP3A4 enzyme and are us...         [15450]\n",
       "2   2  What is the name of the condition characterize...  [98851, 98853]\n",
       "3   3  What drugs are used to treat epithelioid sarco...         [15698]\n",
       "4   4  Can you supply a compilation of genes and prot...   [7161, 22045]"
      ]
     },
     "execution_count": 5,
     "metadata": {},
     "output_type": "execute_result"
    }
   ],
   "source": [
    "# Check a sample of the starkqa primekg dataframe\n",
    "starkqa_df.head()"
   ]
  },
  {
   "cell_type": "markdown",
   "metadata": {},
   "source": [
    "The current StarkQA-PrimeKG has about 11K records of questions and answers pairs."
   ]
  },
  {
   "cell_type": "code",
   "execution_count": 6,
   "metadata": {},
   "outputs": [
    {
     "data": {
      "text/plain": [
       "(11204, 3)"
      ]
     },
     "execution_count": 6,
     "metadata": {},
     "output_type": "execute_result"
    }
   ],
   "source": [
    "# Check dimensions of the starkqa primekg dataframe\n",
    "starkqa_df.shape"
   ]
  },
  {
   "cell_type": "markdown",
   "metadata": {},
   "source": [
    "### CHeck StarkQA-PrimeKG Node Information"
   ]
  },
  {
   "cell_type": "markdown",
   "metadata": {},
   "source": [
    "StarkQA provides an additional node information for PrimeKG as a dictionary for each node.\n",
    "\n",
    "This allows us to further enrich the features of the knowledge graph nodes."
   ]
  },
  {
   "cell_type": "code",
   "execution_count": 7,
   "metadata": {},
   "outputs": [
    {
     "data": {
      "text/plain": [
       "{'id': 9796,\n",
       " 'type': 'gene/protein',\n",
       " 'name': 'PHYHIP',\n",
       " 'source': 'NCBI',\n",
       " 'details': {'query': 'PHYHIP',\n",
       "  '_id': '9796',\n",
       "  '_score': 17.934021,\n",
       "  'alias': ['DYRK1AP3', 'PAHX-AP', 'PAHXAP1'],\n",
       "  'genomic_pos': {'chr': '8',\n",
       "   'end': 22232101,\n",
       "   'ensemblgene': 'ENSG00000168490',\n",
       "   'start': 22219703,\n",
       "   'strand': -1},\n",
       "  'name': 'phytanoyl-CoA 2-hydroxylase interacting protein',\n",
       "  'summary': 'Enables protein tyrosine kinase binding activity. Involved in protein localization. Located in cytoplasm. [provided by Alliance of Genome Resources, Apr 2022]'}}"
      ]
     },
     "execution_count": 7,
     "metadata": {},
     "output_type": "execute_result"
    }
   ],
   "source": [
    "# Check the node information of PrimeKG\n",
    "starkqa_node_info[0]"
   ]
  },
  {
   "cell_type": "markdown",
   "metadata": {},
   "source": [
    "### Check StarQA-PrimeKG splits"
   ]
  },
  {
   "cell_type": "markdown",
   "metadata": {},
   "source": [
    "StarkQA-PrimeKG splits contain train, validation, and test indices for benchmarking the QA-driven AI models."
   ]
  },
  {
   "cell_type": "code",
   "execution_count": 8,
   "metadata": {},
   "outputs": [
    {
     "data": {
      "text/plain": [
       "dict_keys(['train', 'val', 'test', 'test-0.1'])"
      ]
     },
     "execution_count": 8,
     "metadata": {},
     "output_type": "execute_result"
    }
   ],
   "source": [
    "# Check the split indices of the starkqa primekg dataframe\n",
    "starkqa_split_indices.keys()"
   ]
  },
  {
   "cell_type": "markdown",
   "metadata": {},
   "source": [
    "Finally, we can check the number of each split as follows."
   ]
  },
  {
   "cell_type": "code",
   "execution_count": 9,
   "metadata": {},
   "outputs": [
    {
     "name": "stdout",
     "output_type": "stream",
     "text": [
      "train: 6162\n",
      "val: 2241\n",
      "test: 2801\n",
      "test-0.1: 280\n"
     ]
    }
   ],
   "source": [
    "# Check the number of samples in each split of the starkqa primekg dataframe\n",
    "for split, idx in starkqa_split_indices.items():\n",
    "    print(f\"{split}: {len(idx)}\")"
   ]
  }
 ],
 "metadata": {
  "kernelspec": {
   "display_name": "venv",
   "language": "python",
   "name": "python3"
  },
  "language_info": {
   "codemirror_mode": {
    "name": "ipython",
    "version": 3
   },
   "file_extension": ".py",
   "mimetype": "text/x-python",
   "name": "python",
   "nbconvert_exporter": "python",
   "pygments_lexer": "ipython3",
   "version": "3.12.8"
  }
 },
 "nbformat": 4,
 "nbformat_minor": 2
}
