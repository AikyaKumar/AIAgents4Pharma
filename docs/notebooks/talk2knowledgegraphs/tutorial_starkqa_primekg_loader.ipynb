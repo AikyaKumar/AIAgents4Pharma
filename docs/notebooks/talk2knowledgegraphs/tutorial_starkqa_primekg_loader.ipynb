{
 "cells": [
  {
   "cell_type": "markdown",
   "metadata": {},
   "source": [
    "# Tutorial: StarkQA-PrimeKG Loader"
   ]
  },
  {
   "cell_type": "markdown",
   "metadata": {},
   "source": [
    "In this tutorial, we will explain how to load StarkQA-PrimeKG dataset, which is a dataset for question answering over knowledge graphs of PrimeKG. \n",
    "\n",
    "Prior information about the StarkQA-PrimeKG dataaset can be found in the following repositories:\n",
    "- https://github.com/snap-stanford/stark\n",
    "- https://stark.stanford.edu/\n",
    "- https://huggingface.co/datasets/snap-stanford/stark"
   ]
  },
  {
   "cell_type": "markdown",
   "metadata": {},
   "source": [
    "We first need to import the necessary libraries as follows."
   ]
  },
  {
   "cell_type": "code",
   "execution_count": 1,
   "metadata": {},
   "outputs": [
    {
     "name": "stderr",
     "output_type": "stream",
     "text": [
      "c:\\Users\\mulyadi\\Repo\\AIAgents4Pharma\\venv\\Lib\\site-packages\\pydantic\\_internal\\_fields.py:132: UserWarning: Field \"model_id\" in SysBioModel has conflict with protected namespace \"model_\".\n",
      "\n",
      "You may be able to resolve this warning by setting `model_config['protected_namespaces'] = ()`.\n",
      "  warnings.warn(\n",
      "c:\\Users\\mulyadi\\Repo\\AIAgents4Pharma\\venv\\Lib\\site-packages\\pydantic\\_internal\\_fields.py:132: UserWarning: Field \"model_id\" in BasicoModel has conflict with protected namespace \"model_\".\n",
      "\n",
      "You may be able to resolve this warning by setting `model_config['protected_namespaces'] = ()`.\n",
      "  warnings.warn(\n",
      "c:\\Users\\mulyadi\\Repo\\AIAgents4Pharma\\venv\\Lib\\site-packages\\pydantic\\_internal\\_fields.py:132: UserWarning: Field \"model_data\" in SimulateModelInput has conflict with protected namespace \"model_\".\n",
      "\n",
      "You may be able to resolve this warning by setting `model_config['protected_namespaces'] = ()`.\n",
      "  warnings.warn(\n"
     ]
    }
   ],
   "source": [
    "# Import necessary libraries\n",
    "import sys\n",
    "sys.path.append('../../..')\n",
    "from aiagents4pharma.talk2knowledgegraphs.tools.starkqa_primekg_loader import StarkQAPrimeKGData, StarkQAPrimeKGLoaderInput, StarkQAPrimeKGLoaderTool"
   ]
  },
  {
   "cell_type": "markdown",
   "metadata": {},
   "source": [
    "### Load StarQA-PrimeKG"
   ]
  },
  {
   "cell_type": "markdown",
   "metadata": {},
   "source": [
    "The `StarkQAPrimeKGLoaderTool` allows to load the data from the HuggingFace Hub if the data is not available locally. \n",
    "\n",
    "Otherwise, the data is loaded from the local directory as defined in the `local_dir` parameter set in `StarkQAPrimeKGData`."
   ]
  },
  {
   "cell_type": "code",
   "execution_count": 2,
   "metadata": {},
   "outputs": [],
   "source": [
    "# Define starkqa primekg data by providing a local directory where the data is stored\n",
    "starkqa_data = StarkQAPrimeKGData(local_dir=\"../../../../data/starkqa_primekg_test/\")\n",
    "\n",
    "# Define starkqa primekg loader input by providing the starkqa primekg data\n",
    "loader_input = StarkQAPrimeKGLoaderInput(data=starkqa_data)"
   ]
  },
  {
   "cell_type": "markdown",
   "metadata": {},
   "source": [
    "To load the dataframes of StarkQA and its split, we just need to invoke the tool as follows."
   ]
  },
  {
   "cell_type": "code",
   "execution_count": 3,
   "metadata": {},
   "outputs": [
    {
     "name": "stdout",
     "output_type": "stream",
     "text": [
      "../../../../data/starkqa_primekg_test/qa/prime/stark_qa/stark_qa.csv already exists. Loading the data from the local directory.\n"
     ]
    }
   ],
   "source": [
    "# Define starkqa primekg loader tool and call run method to load the dataframes and its split indices\n",
    "tool = StarkQAPrimeKGLoaderTool()\n",
    "starkqa_df, split_idx = tool.call_run(loader_input.data.repo_id,\n",
    "                                      loader_input.data.local_dir)"
   ]
  },
  {
   "cell_type": "markdown",
   "metadata": {},
   "source": [
    "### Check StarQA-PrimeKG Dataframes"
   ]
  },
  {
   "cell_type": "markdown",
   "metadata": {},
   "source": [
    "\n",
    "StarkQA dataframes contain the following columns:\n",
    "- `id`: Unique identifier for each question and answer pair\n",
    "- `query`: The synthesized question from the StarkQA dataset\n",
    "- `answer_ids`: The unique identifier for the answer to the question (multiple answers are possible)"
   ]
  },
  {
   "cell_type": "code",
   "execution_count": 4,
   "metadata": {},
   "outputs": [
    {
     "data": {
      "text/html": [
       "<div>\n",
       "<style scoped>\n",
       "    .dataframe tbody tr th:only-of-type {\n",
       "        vertical-align: middle;\n",
       "    }\n",
       "\n",
       "    .dataframe tbody tr th {\n",
       "        vertical-align: top;\n",
       "    }\n",
       "\n",
       "    .dataframe thead th {\n",
       "        text-align: right;\n",
       "    }\n",
       "</style>\n",
       "<table border=\"1\" class=\"dataframe\">\n",
       "  <thead>\n",
       "    <tr style=\"text-align: right;\">\n",
       "      <th></th>\n",
       "      <th>id</th>\n",
       "      <th>query</th>\n",
       "      <th>answer_ids</th>\n",
       "    </tr>\n",
       "  </thead>\n",
       "  <tbody>\n",
       "    <tr>\n",
       "      <th>0</th>\n",
       "      <td>0</td>\n",
       "      <td>Could you identify any skin diseases associate...</td>\n",
       "      <td>[95886]</td>\n",
       "    </tr>\n",
       "    <tr>\n",
       "      <th>1</th>\n",
       "      <td>1</td>\n",
       "      <td>What drugs target the CYP3A4 enzyme and are us...</td>\n",
       "      <td>[15450]</td>\n",
       "    </tr>\n",
       "    <tr>\n",
       "      <th>2</th>\n",
       "      <td>2</td>\n",
       "      <td>What is the name of the condition characterize...</td>\n",
       "      <td>[98851, 98853]</td>\n",
       "    </tr>\n",
       "    <tr>\n",
       "      <th>3</th>\n",
       "      <td>3</td>\n",
       "      <td>What drugs are used to treat epithelioid sarco...</td>\n",
       "      <td>[15698]</td>\n",
       "    </tr>\n",
       "    <tr>\n",
       "      <th>4</th>\n",
       "      <td>4</td>\n",
       "      <td>Can you supply a compilation of genes and prot...</td>\n",
       "      <td>[7161, 22045]</td>\n",
       "    </tr>\n",
       "  </tbody>\n",
       "</table>\n",
       "</div>"
      ],
      "text/plain": [
       "   id                                              query      answer_ids\n",
       "0   0  Could you identify any skin diseases associate...         [95886]\n",
       "1   1  What drugs target the CYP3A4 enzyme and are us...         [15450]\n",
       "2   2  What is the name of the condition characterize...  [98851, 98853]\n",
       "3   3  What drugs are used to treat epithelioid sarco...         [15698]\n",
       "4   4  Can you supply a compilation of genes and prot...   [7161, 22045]"
      ]
     },
     "execution_count": 4,
     "metadata": {},
     "output_type": "execute_result"
    }
   ],
   "source": [
    "# Check a sample of the starkqa primekg dataframe\n",
    "starkqa_df.head()"
   ]
  },
  {
   "cell_type": "markdown",
   "metadata": {},
   "source": [
    "The current StarkQA-PrimeKG has about 11K records of questions and answers pairs."
   ]
  },
  {
   "cell_type": "code",
   "execution_count": 5,
   "metadata": {},
   "outputs": [
    {
     "data": {
      "text/plain": [
       "(11204, 3)"
      ]
     },
     "execution_count": 5,
     "metadata": {},
     "output_type": "execute_result"
    }
   ],
   "source": [
    "# Check dimensions of the starkqa primekg dataframe\n",
    "starkqa_df.shape"
   ]
  },
  {
   "cell_type": "markdown",
   "metadata": {},
   "source": [
    "### Check StarQA-PrimeKG splits"
   ]
  },
  {
   "cell_type": "markdown",
   "metadata": {},
   "source": [
    "StarkQA-PrimeKG splits contain train, validation, and test indices for benchmarking the QA-driven AI models."
   ]
  },
  {
   "cell_type": "code",
   "execution_count": 6,
   "metadata": {},
   "outputs": [
    {
     "data": {
      "text/plain": [
       "dict_keys(['train', 'val', 'test', 'test-0.1'])"
      ]
     },
     "execution_count": 6,
     "metadata": {},
     "output_type": "execute_result"
    }
   ],
   "source": [
    "# Check the split indices of the starkqa primekg dataframe\n",
    "split_idx.keys()"
   ]
  },
  {
   "cell_type": "markdown",
   "metadata": {},
   "source": [
    "Finally, we can check the number of each split as follows."
   ]
  },
  {
   "cell_type": "code",
   "execution_count": 7,
   "metadata": {},
   "outputs": [
    {
     "name": "stdout",
     "output_type": "stream",
     "text": [
      "train: 6162\n",
      "val: 2241\n",
      "test: 2801\n",
      "test-0.1: 280\n"
     ]
    }
   ],
   "source": [
    "# Check the number of samples in each split of the starkqa primekg dataframe\n",
    "for split, idx in split_idx.items():\n",
    "    print(f\"{split}: {len(idx)}\")"
   ]
  }
 ],
 "metadata": {
  "kernelspec": {
   "display_name": "venv",
   "language": "python",
   "name": "python3"
  },
  "language_info": {
   "codemirror_mode": {
    "name": "ipython",
    "version": 3
   },
   "file_extension": ".py",
   "mimetype": "text/x-python",
   "name": "python",
   "nbconvert_exporter": "python",
   "pygments_lexer": "ipython3",
   "version": "3.12.8"
  }
 },
 "nbformat": 4,
 "nbformat_minor": 2
}
