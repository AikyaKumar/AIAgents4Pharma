{
 "cells": [
  {
   "cell_type": "code",
   "execution_count": null,
   "metadata": {},
   "outputs": [],
   "source": [
    "import pickle\n",
    "import pandas as pd"
   ]
  },
  {
   "cell_type": "code",
   "execution_count": null,
   "metadata": {},
   "outputs": [],
   "source": [
    "# Load the knowledge graph\n",
    "pyg_file = \"../../../aiagents4pharma/talk2knowledgegraphs/tests/files/primekg_ibd_pyg_graph.pkl\"\n",
    "with open(pyg_file, \"rb\") as f:\n",
    "    pyg_data = pickle.load(f)\n"
   ]
  },
  {
   "cell_type": "code",
   "execution_count": null,
   "metadata": {},
   "outputs": [],
   "source": [
    "pyg_data"
   ]
  },
  {
   "cell_type": "code",
   "execution_count": null,
   "metadata": {},
   "outputs": [],
   "source": [
    "# Convert the PyG data to a pandas DataFrame for node\n",
    "df_nodes = pd.DataFrame({\n",
    "    \"node_id\": pyg_data.node_id,\n",
    "    \"node_name\": pyg_data.node_name,\n",
    "    \"node_type\": pyg_data.node_type,\n",
    "    \"enriched_node\": pyg_data.enriched_node,\n",
    "    \"embedded_node\": pyg_data.x.tolist(),\n",
    "})\n",
    "df_nodes"
   ]
  },
  {
   "cell_type": "code",
   "execution_count": null,
   "metadata": {},
   "outputs": [],
   "source": [
    "# Convert the PyG data to a pandas DataFrame for node\n",
    "df_edges = pd.DataFrame({\n",
    "    \"head_id\": pyg_data.head_id,\n",
    "    \"head_name\": pyg_data.head_name,\n",
    "    \"edge_type\": pyg_data.edge_type,\n",
    "    \"tail_id\": pyg_data.tail_id,\n",
    "    \"tail_name\": pyg_data.tail_name,\n",
    "    \"enriched_edge\": pyg_data.enriched_edge,\n",
    "    \"embedded_edge\": pyg_data.edge_attr.tolist(),\n",
    "})\n",
    "df_edges"
   ]
  }
 ],
 "metadata": {
  "kernelspec": {
   "display_name": "venv",
   "language": "python",
   "name": "python3"
  },
  "language_info": {
   "codemirror_mode": {
    "name": "ipython",
    "version": 3
   },
   "file_extension": ".py",
   "mimetype": "text/x-python",
   "name": "python",
   "nbconvert_exporter": "python",
   "pygments_lexer": "ipython3",
   "version": "3.12.9"
  }
 },
 "nbformat": 4,
 "nbformat_minor": 2
}
