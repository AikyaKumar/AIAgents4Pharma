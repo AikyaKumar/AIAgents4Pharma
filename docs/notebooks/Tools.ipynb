{
 "cells": [
  {
   "cell_type": "markdown",
   "metadata": {},
   "source": [
    "# Getting Started with Tools - Demonstration \n",
    "This tutorial will walk you through the process of getting started with the useage of different tools to operate with biological models. It includes installation instructions, a quick start guide, and an overview of how to integrate and use the tool in your projects."
   ]
  },
  {
   "cell_type": "markdown",
   "metadata": {},
   "source": [
    "## Getting Started: Quick Start\n",
    "\n",
    "Install aiagents4pharma\n",
    "To begin, you need to install the aiagents4pharma package, which includes the search_models tool for querying biological models.\n",
    "\n",
    "Use the following command to install the package via pip:"
   ]
  },
  {
   "cell_type": "code",
   "execution_count": null,
   "metadata": {},
   "outputs": [
    {
     "ename": "",
     "evalue": "",
     "output_type": "error",
     "traceback": [
      "\u001b[1;31mThe Kernel crashed while executing code in the current cell or a previous cell. \n",
      "\u001b[1;31mPlease review the code in the cell(s) to identify a possible cause of the failure. \n",
      "\u001b[1;31mClick <a href='https://aka.ms/vscodeJupyterKernelCrash'>here</a> for more info. \n",
      "\u001b[1;31mView Jupyter <a href='command:jupyter.viewOutput'>log</a> for further details."
     ]
    }
   ],
   "source": [
    "!python3 -m pip install aiagents4pharma \n",
    "#This will install the aiagents4pharma library and all its dependencies."
   ]
  },
  {
   "cell_type": "markdown",
   "metadata": {},
   "source": [
    "### Set Up Your API Key\n",
    "Before using the model tools, you need to authenticate using an API key. You can either store the API key in an environment variable or set it directly in your notebook/script."
   ]
  },
  {
   "cell_type": "markdown",
   "metadata": {},
   "source": [
    "### Option 1 : Retrieve API Key from Environment Variable"
   ]
  },
  {
   "cell_type": "code",
   "execution_count": null,
   "metadata": {},
   "outputs": [],
   "source": [
    "import os\n",
    "import openai \n",
    "\n",
    "# Retrieve API key from environment variable\n",
    "openai.api_key = os.getenv(\"OPENAI_API_KEY\")"
   ]
  },
  {
   "cell_type": "markdown",
   "metadata": {},
   "source": [
    "### Option 2: Store API Key Directly in the Script (Temporary)"
   ]
  },
  {
   "cell_type": "code",
   "execution_count": null,
   "metadata": {},
   "outputs": [],
   "source": [
    "import os\n",
    "\n",
    "os.environ[\"OPENAI_API_KEY\"] = \"your_api_key\"\n",
    "# Make sure to replace \"your_api_key\" with your actual API key."
   ]
  },
  {
   "cell_type": "markdown",
   "metadata": {},
   "source": [
    "#### Once you have the package installed and the API key set up, you can start using the model tools to query biological models. Here's how you can get started quickly:\n",
    "## Quick Start with search_models Tool\n",
    "### 1. Import Required Packages\n",
    "This imports the SearchModelsTool class from the aiagents4pharma package."
   ]
  },
  {
   "cell_type": "code",
   "execution_count": null,
   "metadata": {},
   "outputs": [],
   "source": [
    "# Import the `SearchModelsTool` class from search_models.py\n",
    "from aiagents4pharma.talk2biomodels.tools.search_models import SearchModelsTool"
   ]
  },
  {
   "cell_type": "markdown",
   "metadata": {},
   "source": [
    "### 2. Initialize the Search Models Tool\n",
    "\n",
    "This creates an instance of the SearchModelsTool which you will use to search for biological models."
   ]
  },
  {
   "cell_type": "code",
   "execution_count": 4,
   "metadata": {},
   "outputs": [],
   "source": [
    "# Initialize the SearchModelsTool\n",
    "search_tool = SearchModelsTool()"
   ]
  },
  {
   "cell_type": "markdown",
   "metadata": {},
   "source": [
    "### 3. Run the Search Models Tool\n",
    "\n",
    "In this example, we are searching for models related to Crohn's disease. You can replace the query with any disease or biological term you're interested in."
   ]
  },
  {
   "cell_type": "code",
   "execution_count": 8,
   "metadata": {},
   "outputs": [],
   "source": [
    "# Define the search query as follows\n",
    "query = \"crohn's disease\"\n",
    "\n",
    "# Run the tool with the query\n",
    "search_results = search_tool.invoke(input={\"query\": query})"
   ]
  },
  {
   "cell_type": "markdown",
   "metadata": {},
   "source": [
    "### 4. Display the Results\n",
    "\n",
    "To view the results, simply print them\n",
    "\n",
    "The search results will be displayed in a table format containing the Model ID, Model Name, Format, and Submission Date."
   ]
  },
  {
   "cell_type": "code",
   "execution_count": 9,
   "metadata": {},
   "outputs": [
    {
     "name": "stdout",
     "output_type": "stream",
     "text": [
      "| #  | BioModel ID                                                                 | BioModel Name                                                                                                   | Format | Submission Date |\n",
      "|----|-----------------------------------------------------------------------------|----------------------------------------------------------------------------------------------------------------|--------|------------------|\n",
      "| 1  | [BIOMD0000000534](https://www.ebi.ac.uk/biomodels/BIOMD0000000534)       | Dwivedi2014 - Healthy Volunteer IL6 Model                                                                       | SBML   | 2014-08-04       |\n",
      "| 2  | [BIOMD0000000535](https://www.ebi.ac.uk/biomodels/BIOMD0000000535)       | Dwivedi2014 - Crohns IL6 Disease model - Anti-IL6 Antibody                                                    | SBML   | 2014-08-04       |\n",
      "| 3  | [BIOMD0000000536](https://www.ebi.ac.uk/biomodels/BIOMD0000000536)       | Dwivedi2014 - Crohns IL6 Disease model - sgp130 activity                                                      | SBML   | 2014-08-04       |\n",
      "| 4  | [BIOMD0000000537](https://www.ebi.ac.uk/biomodels/BIOMD0000000537)       | Dwivedi2014 - Crohns IL6 Disease model - Anti-IL6R Antibody                                                  | SBML   | 2014-08-04       |\n",
      "| 5  | [MODEL1109130000](https://www.ebi.ac.uk/biomodels/MODEL1109130000)       | Thiele2013 - Human metabolism global reconstruction (Recon 2)                                                  | SBML   | 2011-09-12       |\n",
      "| 6  | [MODEL1311110000](https://www.ebi.ac.uk/biomodels/MODEL1311110000)       | Smallbone2013 - Human metabolism global reconstruction (recon 2.1)                                             | SBML   | 2013-11-11       |\n",
      "| 7  | [MODEL1311110001](https://www.ebi.ac.uk/biomodels/MODEL1311110001)       | Smallbone2013 - Human metabolism global reconstruction (recon 2.1x)                                           | SBML   | 2013-11-11       |\n",
      "| 8  | [MODEL1703310000](https://www.ebi.ac.uk/biomodels/MODEL1703310000)       | MODEL1703310000_url.xml                                                                                       | SBML   | 2017-03-30       |\n",
      "| 9  | [MODEL2001290001](https://www.ebi.ac.uk/biomodels/MODEL2001290001)       | AhmedMobeen2021 - NF-kB Activation Model                                                                       | SBML   | 2020-01-29       |\n",
      "| 10 | [MODEL2101150001](https://www.ebi.ac.uk/biomodels/MODEL2101150001)       | Corral2021 - Interplay between SMAD2 and STAT5A regulating IL-17A/F expression in Th cells.                  | SBML   | 2021-01-15       |\n"
     ]
    }
   ],
   "source": [
    "# Display the search results\n",
    "print(search_results)"
   ]
  },
  {
   "cell_type": "markdown",
   "metadata": {},
   "source": [
    "## Quick Start with simulate_model Tool\n"
   ]
  },
  {
   "cell_type": "markdown",
   "metadata": {},
   "source": []
  }
 ],
 "metadata": {
  "kernelspec": {
   "display_name": "venv",
   "language": "python",
   "name": "python3"
  },
  "language_info": {
   "codemirror_mode": {
    "name": "ipython",
    "version": 3
   },
   "file_extension": ".py",
   "mimetype": "text/x-python",
   "name": "python",
   "nbconvert_exporter": "python",
   "pygments_lexer": "ipython3",
   "version": "3.12.7"
  }
 },
 "nbformat": 4,
 "nbformat_minor": 2
}
